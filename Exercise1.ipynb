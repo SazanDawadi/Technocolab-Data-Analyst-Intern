{
 "cells": [
  {
   "cell_type": "markdown",
   "id": "18f33d7e",
   "metadata": {
    "papermill": {
     "duration": 0.007968,
     "end_time": "2023-06-22T12:05:39.946389",
     "exception": false,
     "start_time": "2023-06-22T12:05:39.938421",
     "status": "completed"
    },
    "tags": []
   },
   "source": [
    "**This notebook is an exercise in the [Data Cleaning](https://www.kaggle.com/learn/data-cleaning) course.  You can reference the tutorial at [this link](https://www.kaggle.com/alexisbcook/handling-missing-values).**\n",
    "\n",
    "---\n"
   ]
  },
  {
   "cell_type": "markdown",
   "id": "bd333183",
   "metadata": {
    "papermill": {
     "duration": 0.008865,
     "end_time": "2023-06-22T12:05:39.965362",
     "exception": false,
     "start_time": "2023-06-22T12:05:39.956497",
     "status": "completed"
    },
    "tags": []
   },
   "source": [
    "In this exercise, you'll apply what you learned in the **Handling missing values** tutorial.\n",
    "\n",
    "# Setup\n",
    "\n",
    "The questions below will give you feedback on your work. Run the following cell to set up the feedback system."
   ]
  },
  {
   "cell_type": "code",
   "execution_count": 1,
   "id": "9ad8c73d",
   "metadata": {
    "execution": {
     "iopub.execute_input": "2023-06-22T12:05:39.982354Z",
     "iopub.status.busy": "2023-06-22T12:05:39.981889Z",
     "iopub.status.idle": "2023-06-22T12:05:50.356579Z",
     "shell.execute_reply": "2023-06-22T12:05:50.355010Z"
    },
    "papermill": {
     "duration": 10.386703,
     "end_time": "2023-06-22T12:05:50.359626",
     "exception": false,
     "start_time": "2023-06-22T12:05:39.972923",
     "status": "completed"
    },
    "tags": []
   },
   "outputs": [
    {
     "name": "stderr",
     "output_type": "stream",
     "text": [
      "/opt/conda/lib/python3.10/site-packages/learntools/data_cleaning/ex1.py:6: DtypeWarning: Columns (22,32) have mixed types. Specify dtype option on import or set low_memory=False.\n",
      "  sf_permits = pd.read_csv(\"../input/building-permit-applications-data/Building_Permits.csv\")\n"
     ]
    },
    {
     "name": "stdout",
     "output_type": "stream",
     "text": [
      "Setup Complete\n"
     ]
    }
   ],
   "source": [
    "from learntools.core import binder\n",
    "binder.bind(globals())\n",
    "from learntools.data_cleaning.ex1 import *\n",
    "print(\"Setup Complete\")"
   ]
  },
  {
   "cell_type": "markdown",
   "id": "4b1182bd",
   "metadata": {
    "papermill": {
     "duration": 0.007346,
     "end_time": "2023-06-22T12:05:50.374983",
     "exception": false,
     "start_time": "2023-06-22T12:05:50.367637",
     "status": "completed"
    },
    "tags": []
   },
   "source": [
    "# 1) Take a first look at the data\n",
    "\n",
    "Run the next code cell to load in the libraries and dataset you'll use to complete the exercise."
   ]
  },
  {
   "cell_type": "code",
   "execution_count": 2,
   "id": "b414eeb0",
   "metadata": {
    "execution": {
     "iopub.execute_input": "2023-06-22T12:05:50.394809Z",
     "iopub.status.busy": "2023-06-22T12:05:50.393676Z",
     "iopub.status.idle": "2023-06-22T12:05:52.702743Z",
     "shell.execute_reply": "2023-06-22T12:05:52.701227Z"
    },
    "papermill": {
     "duration": 2.323153,
     "end_time": "2023-06-22T12:05:52.705704",
     "exception": false,
     "start_time": "2023-06-22T12:05:50.382551",
     "status": "completed"
    },
    "tags": []
   },
   "outputs": [
    {
     "name": "stderr",
     "output_type": "stream",
     "text": [
      "/tmp/ipykernel_20/3534875831.py:6: DtypeWarning: Columns (22,32) have mixed types. Specify dtype option on import or set low_memory=False.\n",
      "  sf_permits = pd.read_csv(\"../input/building-permit-applications-data/Building_Permits.csv\")\n"
     ]
    }
   ],
   "source": [
    "# modules we'll use\n",
    "import pandas as pd\n",
    "import numpy as np\n",
    "\n",
    "# read in all our data\n",
    "sf_permits = pd.read_csv(\"../input/building-permit-applications-data/Building_Permits.csv\")\n",
    "\n",
    "# set seed for reproducibility\n",
    "np.random.seed(0) "
   ]
  },
  {
   "cell_type": "markdown",
   "id": "bbeb6214",
   "metadata": {
    "papermill": {
     "duration": 0.007643,
     "end_time": "2023-06-22T12:05:52.722134",
     "exception": false,
     "start_time": "2023-06-22T12:05:52.714491",
     "status": "completed"
    },
    "tags": []
   },
   "source": [
    "Use the code cell below to print the first five rows of the `sf_permits` DataFrame."
   ]
  },
  {
   "cell_type": "code",
   "execution_count": 3,
   "id": "76e8a84c",
   "metadata": {
    "execution": {
     "iopub.execute_input": "2023-06-22T12:05:52.741046Z",
     "iopub.status.busy": "2023-06-22T12:05:52.740392Z",
     "iopub.status.idle": "2023-06-22T12:05:52.744513Z",
     "shell.execute_reply": "2023-06-22T12:05:52.743584Z"
    },
    "papermill": {
     "duration": 0.016369,
     "end_time": "2023-06-22T12:05:52.746907",
     "exception": false,
     "start_time": "2023-06-22T12:05:52.730538",
     "status": "completed"
    },
    "tags": []
   },
   "outputs": [],
   "source": [
    "# TODO: Your code here!\n"
   ]
  },
  {
   "cell_type": "markdown",
   "id": "5920d36d",
   "metadata": {
    "papermill": {
     "duration": 0.007891,
     "end_time": "2023-06-22T12:05:52.762905",
     "exception": false,
     "start_time": "2023-06-22T12:05:52.755014",
     "status": "completed"
    },
    "tags": []
   },
   "source": [
    "Does the dataset have any missing values?  Once you have an answer, run the code cell below to get credit for your work."
   ]
  },
  {
   "cell_type": "code",
   "execution_count": 4,
   "id": "07e8fae9",
   "metadata": {
    "execution": {
     "iopub.execute_input": "2023-06-22T12:05:52.783328Z",
     "iopub.status.busy": "2023-06-22T12:05:52.782703Z",
     "iopub.status.idle": "2023-06-22T12:05:52.791515Z",
     "shell.execute_reply": "2023-06-22T12:05:52.790469Z"
    },
    "papermill": {
     "duration": 0.021851,
     "end_time": "2023-06-22T12:05:52.794162",
     "exception": false,
     "start_time": "2023-06-22T12:05:52.772311",
     "status": "completed"
    },
    "tags": []
   },
   "outputs": [
    {
     "data": {
      "application/javascript": [
       "parent.postMessage({\"jupyterEvent\": \"custom.exercise_interaction\", \"data\": {\"outcomeType\": 1, \"valueTowardsCompletion\": 0.16666666666666666, \"interactionType\": 1, \"questionType\": 4, \"questionId\": \"1_TakeFirstLook\", \"learnToolsVersion\": \"0.3.4\", \"failureMessage\": \"\", \"exceptionClass\": \"\", \"trace\": \"\"}}, \"*\")"
      ],
      "text/plain": [
       "<IPython.core.display.Javascript object>"
      ]
     },
     "metadata": {},
     "output_type": "display_data"
    },
    {
     "data": {
      "text/markdown": [
       "<span style=\"color:#33cc33\">Correct:</span> \n",
       "\n",
       "The first five rows of the data does show that several columns have missing values.  You can see this in the \"Street Number Suffix\", \"Proposed Construction Type\" and \"Site Permit\" columns, among others."
      ],
      "text/plain": [
       "Correct: \n",
       "\n",
       "The first five rows of the data does show that several columns have missing values.  You can see this in the \"Street Number Suffix\", \"Proposed Construction Type\" and \"Site Permit\" columns, among others."
      ]
     },
     "metadata": {},
     "output_type": "display_data"
    }
   ],
   "source": [
    "# Check your answer (Run this code cell to receive credit!)\n",
    "q1.check()"
   ]
  },
  {
   "cell_type": "code",
   "execution_count": 5,
   "id": "c2ad5044",
   "metadata": {
    "execution": {
     "iopub.execute_input": "2023-06-22T12:05:52.813741Z",
     "iopub.status.busy": "2023-06-22T12:05:52.812861Z",
     "iopub.status.idle": "2023-06-22T12:05:52.816969Z",
     "shell.execute_reply": "2023-06-22T12:05:52.816097Z"
    },
    "papermill": {
     "duration": 0.016664,
     "end_time": "2023-06-22T12:05:52.819295",
     "exception": false,
     "start_time": "2023-06-22T12:05:52.802631",
     "status": "completed"
    },
    "tags": []
   },
   "outputs": [],
   "source": [
    "# Line below will give you a hint\n",
    "#q1.hint()"
   ]
  },
  {
   "cell_type": "markdown",
   "id": "af999fd4",
   "metadata": {
    "papermill": {
     "duration": 0.008164,
     "end_time": "2023-06-22T12:05:52.835899",
     "exception": false,
     "start_time": "2023-06-22T12:05:52.827735",
     "status": "completed"
    },
    "tags": []
   },
   "source": [
    "# 2) How many missing data points do we have?\n",
    "\n",
    "What percentage of the values in the dataset are missing?  Your answer should be a number between 0 and 100.  (If 1/4 of the values in the dataset are missing, the answer is 25.)"
   ]
  },
  {
   "cell_type": "code",
   "execution_count": 6,
   "id": "f90b0c5e",
   "metadata": {
    "execution": {
     "iopub.execute_input": "2023-06-22T12:05:52.855047Z",
     "iopub.status.busy": "2023-06-22T12:05:52.854614Z",
     "iopub.status.idle": "2023-06-22T12:05:52.864704Z",
     "shell.execute_reply": "2023-06-22T12:05:52.863496Z"
    },
    "papermill": {
     "duration": 0.02301,
     "end_time": "2023-06-22T12:05:52.867274",
     "exception": false,
     "start_time": "2023-06-22T12:05:52.844264",
     "status": "completed"
    },
    "tags": []
   },
   "outputs": [
    {
     "data": {
      "application/javascript": [
       "parent.postMessage({\"jupyterEvent\": \"custom.exercise_interaction\", \"data\": {\"outcomeType\": 4, \"interactionType\": 1, \"questionType\": 1, \"questionId\": \"2_PercentMissingValues\", \"learnToolsVersion\": \"0.3.4\", \"valueTowardsCompletion\": 0.0, \"failureMessage\": \"\", \"exceptionClass\": \"\", \"trace\": \"\"}}, \"*\")"
      ],
      "text/plain": [
       "<IPython.core.display.Javascript object>"
      ]
     },
     "metadata": {},
     "output_type": "display_data"
    },
    {
     "data": {
      "text/markdown": [
       "<span style=\"color:#ccaa33\">Check:</span> When you've updated the starter code, `check()` will tell you whether your code is correct. You need to update the code that creates variable `percent_missing`"
      ],
      "text/plain": [
       "Check: When you've updated the starter code, `check()` will tell you whether your code is correct. You need to update the code that creates variable `percent_missing`"
      ]
     },
     "metadata": {},
     "output_type": "display_data"
    }
   ],
   "source": [
    "# TODO: Your code here!\n",
    "percent_missing = ____\n",
    "\n",
    "# Check your answer\n",
    "q2.check()"
   ]
  },
  {
   "cell_type": "code",
   "execution_count": 7,
   "id": "74f59320",
   "metadata": {
    "execution": {
     "iopub.execute_input": "2023-06-22T12:05:52.887437Z",
     "iopub.status.busy": "2023-06-22T12:05:52.886756Z",
     "iopub.status.idle": "2023-06-22T12:05:52.891233Z",
     "shell.execute_reply": "2023-06-22T12:05:52.890388Z"
    },
    "papermill": {
     "duration": 0.017731,
     "end_time": "2023-06-22T12:05:52.893674",
     "exception": false,
     "start_time": "2023-06-22T12:05:52.875943",
     "status": "completed"
    },
    "tags": []
   },
   "outputs": [],
   "source": [
    "# Lines below will give you a hint or solution code\n",
    "#q2.hint()\n",
    "#q2.solution()"
   ]
  },
  {
   "cell_type": "markdown",
   "id": "a044508c",
   "metadata": {
    "papermill": {
     "duration": 0.008457,
     "end_time": "2023-06-22T12:05:52.910984",
     "exception": false,
     "start_time": "2023-06-22T12:05:52.902527",
     "status": "completed"
    },
    "tags": []
   },
   "source": [
    "# 3) Figure out why the data is missing\n",
    "\n",
    "Look at the columns **\"Street Number Suffix\"** and **\"Zipcode\"** from the [San Francisco Building Permits dataset](https://www.kaggle.com/aparnashastry/building-permit-applications-data). Both of these contain missing values. \n",
    "- Which, if either, are missing because they don't exist? \n",
    "- Which, if either, are missing because they weren't recorded?  \n",
    "\n",
    "Once you have an answer, run the code cell below."
   ]
  },
  {
   "cell_type": "code",
   "execution_count": 8,
   "id": "d6657c0d",
   "metadata": {
    "execution": {
     "iopub.execute_input": "2023-06-22T12:05:52.930871Z",
     "iopub.status.busy": "2023-06-22T12:05:52.930206Z",
     "iopub.status.idle": "2023-06-22T12:05:52.939306Z",
     "shell.execute_reply": "2023-06-22T12:05:52.938256Z"
    },
    "papermill": {
     "duration": 0.021866,
     "end_time": "2023-06-22T12:05:52.941591",
     "exception": false,
     "start_time": "2023-06-22T12:05:52.919725",
     "status": "completed"
    },
    "tags": []
   },
   "outputs": [
    {
     "data": {
      "application/javascript": [
       "parent.postMessage({\"jupyterEvent\": \"custom.exercise_interaction\", \"data\": {\"outcomeType\": 1, \"valueTowardsCompletion\": 0.16666666666666666, \"interactionType\": 1, \"questionType\": 4, \"questionId\": \"3_WhyDataMissing\", \"learnToolsVersion\": \"0.3.4\", \"failureMessage\": \"\", \"exceptionClass\": \"\", \"trace\": \"\"}}, \"*\")"
      ],
      "text/plain": [
       "<IPython.core.display.Javascript object>"
      ]
     },
     "metadata": {},
     "output_type": "display_data"
    },
    {
     "data": {
      "text/markdown": [
       "<span style=\"color:#33cc33\">Correct:</span> \n",
       "\n",
       "If a value in the \"Street Number Suffix\" column is missing, it is likely because it does not exist. If a value in the \"Zipcode\" column is missing, it was not recorded."
      ],
      "text/plain": [
       "Correct: \n",
       "\n",
       "If a value in the \"Street Number Suffix\" column is missing, it is likely because it does not exist. If a value in the \"Zipcode\" column is missing, it was not recorded."
      ]
     },
     "metadata": {},
     "output_type": "display_data"
    }
   ],
   "source": [
    "# Check your answer (Run this code cell to receive credit!)\n",
    "q3.check()"
   ]
  },
  {
   "cell_type": "code",
   "execution_count": 9,
   "id": "f62ac8b9",
   "metadata": {
    "execution": {
     "iopub.execute_input": "2023-06-22T12:05:52.962148Z",
     "iopub.status.busy": "2023-06-22T12:05:52.961490Z",
     "iopub.status.idle": "2023-06-22T12:05:52.966915Z",
     "shell.execute_reply": "2023-06-22T12:05:52.965591Z"
    },
    "papermill": {
     "duration": 0.019285,
     "end_time": "2023-06-22T12:05:52.969885",
     "exception": false,
     "start_time": "2023-06-22T12:05:52.950600",
     "status": "completed"
    },
    "tags": []
   },
   "outputs": [],
   "source": [
    "# Line below will give you a hint\n",
    "#q3.hint()"
   ]
  },
  {
   "cell_type": "markdown",
   "id": "735cd6c7",
   "metadata": {
    "papermill": {
     "duration": 0.009189,
     "end_time": "2023-06-22T12:05:52.988356",
     "exception": false,
     "start_time": "2023-06-22T12:05:52.979167",
     "status": "completed"
    },
    "tags": []
   },
   "source": [
    "# 4) Drop missing values: rows\n",
    "\n",
    "If you removed all of the rows of `sf_permits` with missing values, how many rows are left?\n",
    "\n",
    "**Note**: Do not change the value of `sf_permits` when checking this.  "
   ]
  },
  {
   "cell_type": "code",
   "execution_count": 10,
   "id": "31248aca",
   "metadata": {
    "execution": {
     "iopub.execute_input": "2023-06-22T12:05:53.009203Z",
     "iopub.status.busy": "2023-06-22T12:05:53.008531Z",
     "iopub.status.idle": "2023-06-22T12:05:53.013076Z",
     "shell.execute_reply": "2023-06-22T12:05:53.012264Z"
    },
    "papermill": {
     "duration": 0.017859,
     "end_time": "2023-06-22T12:05:53.015429",
     "exception": false,
     "start_time": "2023-06-22T12:05:52.997570",
     "status": "completed"
    },
    "tags": []
   },
   "outputs": [],
   "source": [
    "# TODO: Your code here!\n"
   ]
  },
  {
   "cell_type": "markdown",
   "id": "836295cc",
   "metadata": {
    "papermill": {
     "duration": 0.009108,
     "end_time": "2023-06-22T12:05:53.033700",
     "exception": false,
     "start_time": "2023-06-22T12:05:53.024592",
     "status": "completed"
    },
    "tags": []
   },
   "source": [
    "Once you have an answer, run the code cell below."
   ]
  },
  {
   "cell_type": "code",
   "execution_count": 11,
   "id": "b34251d6",
   "metadata": {
    "execution": {
     "iopub.execute_input": "2023-06-22T12:05:53.054262Z",
     "iopub.status.busy": "2023-06-22T12:05:53.053791Z",
     "iopub.status.idle": "2023-06-22T12:05:53.063885Z",
     "shell.execute_reply": "2023-06-22T12:05:53.062683Z"
    },
    "papermill": {
     "duration": 0.023891,
     "end_time": "2023-06-22T12:05:53.066811",
     "exception": false,
     "start_time": "2023-06-22T12:05:53.042920",
     "status": "completed"
    },
    "tags": []
   },
   "outputs": [
    {
     "data": {
      "application/javascript": [
       "parent.postMessage({\"jupyterEvent\": \"custom.exercise_interaction\", \"data\": {\"outcomeType\": 1, \"valueTowardsCompletion\": 0.16666666666666666, \"interactionType\": 1, \"questionType\": 4, \"questionId\": \"4_DropMissingRows\", \"learnToolsVersion\": \"0.3.4\", \"failureMessage\": \"\", \"exceptionClass\": \"\", \"trace\": \"\"}}, \"*\")"
      ],
      "text/plain": [
       "<IPython.core.display.Javascript object>"
      ]
     },
     "metadata": {},
     "output_type": "display_data"
    },
    {
     "data": {
      "text/markdown": [
       "<span style=\"color:#33cc33\">Correct:</span> \n",
       "\n",
       "There are no rows remaining in the dataset!"
      ],
      "text/plain": [
       "Correct: \n",
       "\n",
       "There are no rows remaining in the dataset!"
      ]
     },
     "metadata": {},
     "output_type": "display_data"
    }
   ],
   "source": [
    "# Check your answer (Run this code cell to receive credit!)\n",
    "q4.check()"
   ]
  },
  {
   "cell_type": "code",
   "execution_count": 12,
   "id": "ceda8e5e",
   "metadata": {
    "execution": {
     "iopub.execute_input": "2023-06-22T12:05:53.088544Z",
     "iopub.status.busy": "2023-06-22T12:05:53.087823Z",
     "iopub.status.idle": "2023-06-22T12:05:53.092370Z",
     "shell.execute_reply": "2023-06-22T12:05:53.091432Z"
    },
    "papermill": {
     "duration": 0.018292,
     "end_time": "2023-06-22T12:05:53.094983",
     "exception": false,
     "start_time": "2023-06-22T12:05:53.076691",
     "status": "completed"
    },
    "tags": []
   },
   "outputs": [],
   "source": [
    "# Line below will give you a hint\n",
    "#q4.hint()"
   ]
  },
  {
   "cell_type": "markdown",
   "id": "d67db8f6",
   "metadata": {
    "papermill": {
     "duration": 0.011121,
     "end_time": "2023-06-22T12:05:53.116397",
     "exception": false,
     "start_time": "2023-06-22T12:05:53.105276",
     "status": "completed"
    },
    "tags": []
   },
   "source": [
    "# 5) Drop missing values: columns\n",
    "\n",
    "Now try removing all the columns with empty values.  \n",
    "- Create a new DataFrame called `sf_permits_with_na_dropped` that has all of the columns with empty values removed.  \n",
    "- How many columns were removed from the original `sf_permits` DataFrame? Use this number to set the value of the `dropped_columns` variable below."
   ]
  },
  {
   "cell_type": "code",
   "execution_count": 13,
   "id": "17dbd3c8",
   "metadata": {
    "execution": {
     "iopub.execute_input": "2023-06-22T12:05:53.140117Z",
     "iopub.status.busy": "2023-06-22T12:05:53.138853Z",
     "iopub.status.idle": "2023-06-22T12:05:53.148281Z",
     "shell.execute_reply": "2023-06-22T12:05:53.146706Z"
    },
    "papermill": {
     "duration": 0.023617,
     "end_time": "2023-06-22T12:05:53.151025",
     "exception": false,
     "start_time": "2023-06-22T12:05:53.127408",
     "status": "completed"
    },
    "tags": []
   },
   "outputs": [
    {
     "data": {
      "application/javascript": [
       "parent.postMessage({\"jupyterEvent\": \"custom.exercise_interaction\", \"data\": {\"outcomeType\": 4, \"interactionType\": 1, \"questionType\": 1, \"questionId\": \"5_DropMissingCols\", \"learnToolsVersion\": \"0.3.4\", \"valueTowardsCompletion\": 0.0, \"failureMessage\": \"\", \"exceptionClass\": \"\", \"trace\": \"\"}}, \"*\")"
      ],
      "text/plain": [
       "<IPython.core.display.Javascript object>"
      ]
     },
     "metadata": {},
     "output_type": "display_data"
    },
    {
     "data": {
      "text/markdown": [
       "<span style=\"color:#ccaa33\">Check:</span> When you've updated the starter code, `check()` will tell you whether your code is correct. You need to update the code that creates variables `sf_permits_with_na_dropped`, `dropped_columns`"
      ],
      "text/plain": [
       "Check: When you've updated the starter code, `check()` will tell you whether your code is correct. You need to update the code that creates variables `sf_permits_with_na_dropped`, `dropped_columns`"
      ]
     },
     "metadata": {},
     "output_type": "display_data"
    }
   ],
   "source": [
    "# TODO: Your code here\n",
    "sf_permits_with_na_dropped = ____\n",
    "\n",
    "dropped_columns = ____\n",
    "\n",
    "# Check your answer\n",
    "q5.check()"
   ]
  },
  {
   "cell_type": "code",
   "execution_count": 14,
   "id": "a9292942",
   "metadata": {
    "execution": {
     "iopub.execute_input": "2023-06-22T12:05:53.174850Z",
     "iopub.status.busy": "2023-06-22T12:05:53.174403Z",
     "iopub.status.idle": "2023-06-22T12:05:53.179640Z",
     "shell.execute_reply": "2023-06-22T12:05:53.178408Z"
    },
    "papermill": {
     "duration": 0.019547,
     "end_time": "2023-06-22T12:05:53.182006",
     "exception": false,
     "start_time": "2023-06-22T12:05:53.162459",
     "status": "completed"
    },
    "tags": []
   },
   "outputs": [],
   "source": [
    "# Lines below will give you a hint or solution code\n",
    "#q5.hint()\n",
    "#q5.solution()"
   ]
  },
  {
   "cell_type": "markdown",
   "id": "529ab7c6",
   "metadata": {
    "papermill": {
     "duration": 0.009897,
     "end_time": "2023-06-22T12:05:53.202537",
     "exception": false,
     "start_time": "2023-06-22T12:05:53.192640",
     "status": "completed"
    },
    "tags": []
   },
   "source": [
    "# 6) Fill in missing values automatically\n",
    "\n",
    "Try replacing all the NaN's in the `sf_permits` data with the one that comes directly after it and then replacing any remaining NaN's with 0.  Set the result to a new DataFrame `sf_permits_with_na_imputed`."
   ]
  },
  {
   "cell_type": "code",
   "execution_count": 15,
   "id": "f7619e09",
   "metadata": {
    "execution": {
     "iopub.execute_input": "2023-06-22T12:05:53.225280Z",
     "iopub.status.busy": "2023-06-22T12:05:53.224825Z",
     "iopub.status.idle": "2023-06-22T12:05:53.234345Z",
     "shell.execute_reply": "2023-06-22T12:05:53.233285Z"
    },
    "papermill": {
     "duration": 0.024294,
     "end_time": "2023-06-22T12:05:53.237098",
     "exception": false,
     "start_time": "2023-06-22T12:05:53.212804",
     "status": "completed"
    },
    "tags": []
   },
   "outputs": [
    {
     "data": {
      "application/javascript": [
       "parent.postMessage({\"jupyterEvent\": \"custom.exercise_interaction\", \"data\": {\"outcomeType\": 4, \"interactionType\": 1, \"questionType\": 1, \"questionId\": \"6_ImputeAutomatically\", \"learnToolsVersion\": \"0.3.4\", \"valueTowardsCompletion\": 0.0, \"failureMessage\": \"\", \"exceptionClass\": \"\", \"trace\": \"\"}}, \"*\")"
      ],
      "text/plain": [
       "<IPython.core.display.Javascript object>"
      ]
     },
     "metadata": {},
     "output_type": "display_data"
    },
    {
     "data": {
      "text/markdown": [
       "<span style=\"color:#ccaa33\">Check:</span> When you've updated the starter code, `check()` will tell you whether your code is correct. You need to update the code that creates variable `sf_permits_with_na_imputed`"
      ],
      "text/plain": [
       "Check: When you've updated the starter code, `check()` will tell you whether your code is correct. You need to update the code that creates variable `sf_permits_with_na_imputed`"
      ]
     },
     "metadata": {},
     "output_type": "display_data"
    }
   ],
   "source": [
    "# TODO: Your code here\n",
    "sf_permits_with_na_imputed = ____\n",
    "\n",
    "# Check your answer\n",
    "q6.check()"
   ]
  },
  {
   "cell_type": "code",
   "execution_count": 16,
   "id": "fd8629b6",
   "metadata": {
    "execution": {
     "iopub.execute_input": "2023-06-22T12:05:53.264437Z",
     "iopub.status.busy": "2023-06-22T12:05:53.262626Z",
     "iopub.status.idle": "2023-06-22T12:05:53.269092Z",
     "shell.execute_reply": "2023-06-22T12:05:53.267690Z"
    },
    "papermill": {
     "duration": 0.022922,
     "end_time": "2023-06-22T12:05:53.271980",
     "exception": false,
     "start_time": "2023-06-22T12:05:53.249058",
     "status": "completed"
    },
    "tags": []
   },
   "outputs": [],
   "source": [
    "# Lines below will give you a hint or solution code\n",
    "#q6.hint()\n",
    "#q6.solution()"
   ]
  },
  {
   "cell_type": "markdown",
   "id": "bb69b5ec",
   "metadata": {
    "papermill": {
     "duration": 0.010406,
     "end_time": "2023-06-22T12:05:53.293211",
     "exception": false,
     "start_time": "2023-06-22T12:05:53.282805",
     "status": "completed"
    },
    "tags": []
   },
   "source": [
    "# More practice\n",
    "\n",
    "If you're looking for more practice handling missing values:\n",
    "\n",
    "* Check out [this noteboook](https://www.kaggle.com/alexisbcook/missing-values) on handling missing values using scikit-learn's imputer. \n",
    "* Look back at the \"Zipcode\" column in the `sf_permits` dataset, which has some missing values. How would you go about figuring out what the actual zipcode of each address should be? (You might try using another dataset. You can search for datasets about San Fransisco on the [Datasets listing](https://www.kaggle.com/datasets).) \n",
    "\n",
    "# Keep going\n",
    "\n",
    "In the next lesson, learn how to [**apply scaling and normalization**](https://www.kaggle.com/alexisbcook/scaling-and-normalization) to transform your data."
   ]
  },
  {
   "cell_type": "markdown",
   "id": "09750f88",
   "metadata": {
    "papermill": {
     "duration": 0.01032,
     "end_time": "2023-06-22T12:05:53.314292",
     "exception": false,
     "start_time": "2023-06-22T12:05:53.303972",
     "status": "completed"
    },
    "tags": []
   },
   "source": [
    "---\n",
    "\n",
    "\n",
    "\n",
    "\n",
    "*Have questions or comments? Visit the [course discussion forum](https://www.kaggle.com/learn/data-cleaning/discussion) to chat with other learners.*"
   ]
  }
 ],
 "metadata": {
  "kernelspec": {
   "display_name": "Python 3",
   "language": "python",
   "name": "python3"
  },
  "language_info": {
   "codemirror_mode": {
    "name": "ipython",
    "version": 3
   },
   "file_extension": ".py",
   "mimetype": "text/x-python",
   "name": "python",
   "nbconvert_exporter": "python",
   "pygments_lexer": "ipython3",
   "version": "3.10.10"
  },
  "papermill": {
   "default_parameters": {},
   "duration": 30.500805,
   "end_time": "2023-06-22T12:05:54.449655",
   "environment_variables": {},
   "exception": null,
   "input_path": "__notebook__.ipynb",
   "output_path": "__notebook__.ipynb",
   "parameters": {},
   "start_time": "2023-06-22T12:05:23.948850",
   "version": "2.4.0"
  }
 },
 "nbformat": 4,
 "nbformat_minor": 5
}
