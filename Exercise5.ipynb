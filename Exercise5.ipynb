{
 "cells": [
  {
   "cell_type": "markdown",
   "id": "b63e6b4a",
   "metadata": {
    "papermill": {
     "duration": 0.006788,
     "end_time": "2023-06-24T08:00:18.172254",
     "exception": false,
     "start_time": "2023-06-24T08:00:18.165466",
     "status": "completed"
    },
    "tags": []
   },
   "source": [
    "**This notebook is an exercise in the [Data Cleaning](https://www.kaggle.com/learn/data-cleaning) course.  You can reference the tutorial at [this link](https://www.kaggle.com/alexisbcook/inconsistent-data-entry).**\n",
    "\n",
    "---\n"
   ]
  },
  {
   "cell_type": "markdown",
   "id": "c8c7378f",
   "metadata": {
    "papermill": {
     "duration": 0.005511,
     "end_time": "2023-06-24T08:00:18.183822",
     "exception": false,
     "start_time": "2023-06-24T08:00:18.178311",
     "status": "completed"
    },
    "tags": []
   },
   "source": [
    "In this exercise, you'll apply what you learned in the **Inconsistent data entry** tutorial.\n",
    "\n",
    "# Setup\n",
    "\n",
    "The questions below will give you feedback on your work. Run the following cell to set up the feedback system."
   ]
  },
  {
   "cell_type": "code",
   "execution_count": 1,
   "id": "c450c2bf",
   "metadata": {
    "execution": {
     "iopub.execute_input": "2023-06-24T08:00:18.198120Z",
     "iopub.status.busy": "2023-06-24T08:00:18.196998Z",
     "iopub.status.idle": "2023-06-24T08:00:18.396966Z",
     "shell.execute_reply": "2023-06-24T08:00:18.395756Z"
    },
    "papermill": {
     "duration": 0.209808,
     "end_time": "2023-06-24T08:00:18.399622",
     "exception": false,
     "start_time": "2023-06-24T08:00:18.189814",
     "status": "completed"
    },
    "tags": []
   },
   "outputs": [
    {
     "name": "stdout",
     "output_type": "stream",
     "text": [
      "Setup Complete\n"
     ]
    }
   ],
   "source": [
    "from learntools.core import binder\n",
    "binder.bind(globals())\n",
    "from learntools.data_cleaning.ex5 import *\n",
    "print(\"Setup Complete\")"
   ]
  },
  {
   "cell_type": "markdown",
   "id": "f469f46f",
   "metadata": {
    "papermill": {
     "duration": 0.005844,
     "end_time": "2023-06-24T08:00:18.411615",
     "exception": false,
     "start_time": "2023-06-24T08:00:18.405771",
     "status": "completed"
    },
    "tags": []
   },
   "source": [
    "# Get our environment set up\n",
    "\n",
    "The first thing we'll need to do is load in the libraries and dataset we'll be using.  We use the same dataset from the tutorial."
   ]
  },
  {
   "cell_type": "code",
   "execution_count": 2,
   "id": "80f1c8ce",
   "metadata": {
    "execution": {
     "iopub.execute_input": "2023-06-24T08:00:18.425630Z",
     "iopub.status.busy": "2023-06-24T08:00:18.425230Z",
     "iopub.status.idle": "2023-06-24T08:00:18.443123Z",
     "shell.execute_reply": "2023-06-24T08:00:18.441614Z"
    },
    "papermill": {
     "duration": 0.028164,
     "end_time": "2023-06-24T08:00:18.445862",
     "exception": false,
     "start_time": "2023-06-24T08:00:18.417698",
     "status": "completed"
    },
    "tags": []
   },
   "outputs": [],
   "source": [
    "# modules we'll use\n",
    "import pandas as pd\n",
    "import numpy as np\n",
    "\n",
    "# helpful modules\n",
    "import fuzzywuzzy\n",
    "from fuzzywuzzy import process\n",
    "import charset_normalizer\n",
    "\n",
    "# read in all our data\n",
    "professors = pd.read_csv(\"../input/pakistan-intellectual-capital/pakistan_intellectual_capital.csv\")\n",
    "\n",
    "# set seed for reproducibility\n",
    "np.random.seed(0)"
   ]
  },
  {
   "cell_type": "markdown",
   "id": "8f0fa244",
   "metadata": {
    "papermill": {
     "duration": 0.007371,
     "end_time": "2023-06-24T08:00:18.459484",
     "exception": false,
     "start_time": "2023-06-24T08:00:18.452113",
     "status": "completed"
    },
    "tags": []
   },
   "source": [
    "Next, we'll redo all of the work that we did in the tutorial."
   ]
  },
  {
   "cell_type": "code",
   "execution_count": 3,
   "id": "0e45d955",
   "metadata": {
    "execution": {
     "iopub.execute_input": "2023-06-24T08:00:18.473813Z",
     "iopub.status.busy": "2023-06-24T08:00:18.473336Z",
     "iopub.status.idle": "2023-06-24T08:00:18.490850Z",
     "shell.execute_reply": "2023-06-24T08:00:18.489305Z"
    },
    "papermill": {
     "duration": 0.027774,
     "end_time": "2023-06-24T08:00:18.493431",
     "exception": false,
     "start_time": "2023-06-24T08:00:18.465657",
     "status": "completed"
    },
    "tags": []
   },
   "outputs": [
    {
     "name": "stdout",
     "output_type": "stream",
     "text": [
      "All done!\n"
     ]
    }
   ],
   "source": [
    "# convert to lower case\n",
    "professors['Country'] = professors['Country'].str.lower()\n",
    "# remove trailing white spaces\n",
    "professors['Country'] = professors['Country'].str.strip()\n",
    "\n",
    "# get the top 10 closest matches to \"south korea\"\n",
    "countries = professors['Country'].unique()\n",
    "matches = fuzzywuzzy.process.extract(\"south korea\", countries, limit=10, scorer=fuzzywuzzy.fuzz.token_sort_ratio)\n",
    "\n",
    "def replace_matches_in_column(df, column, string_to_match, min_ratio = 47):\n",
    "    # get a list of unique strings\n",
    "    strings = df[column].unique()\n",
    "    \n",
    "    # get the top 10 closest matches to our input string\n",
    "    matches = fuzzywuzzy.process.extract(string_to_match, strings, \n",
    "                                         limit=10, scorer=fuzzywuzzy.fuzz.token_sort_ratio)\n",
    "\n",
    "    # only get matches with a ratio > 90\n",
    "    close_matches = [matches[0] for matches in matches if matches[1] >= min_ratio]\n",
    "\n",
    "    # get the rows of all the close matches in our dataframe\n",
    "    rows_with_matches = df[column].isin(close_matches)\n",
    "\n",
    "    # replace all rows with close matches with the input matches \n",
    "    df.loc[rows_with_matches, column] = string_to_match\n",
    "    \n",
    "    # let us know the function's done\n",
    "    print(\"All done!\")\n",
    "    \n",
    "replace_matches_in_column(df=professors, column='Country', string_to_match=\"south korea\")\n",
    "countries = professors['Country'].unique()"
   ]
  },
  {
   "cell_type": "markdown",
   "id": "6bae9bd1",
   "metadata": {
    "papermill": {
     "duration": 0.005926,
     "end_time": "2023-06-24T08:00:18.505687",
     "exception": false,
     "start_time": "2023-06-24T08:00:18.499761",
     "status": "completed"
    },
    "tags": []
   },
   "source": [
    "# 1) Examine another column\n",
    "\n",
    "Write code below to take a look at all the unique values in the \"Graduated from\" column."
   ]
  },
  {
   "cell_type": "code",
   "execution_count": 4,
   "id": "700ae580",
   "metadata": {
    "execution": {
     "iopub.execute_input": "2023-06-24T08:00:18.520312Z",
     "iopub.status.busy": "2023-06-24T08:00:18.519794Z",
     "iopub.status.idle": "2023-06-24T08:00:18.524494Z",
     "shell.execute_reply": "2023-06-24T08:00:18.523355Z"
    },
    "papermill": {
     "duration": 0.015201,
     "end_time": "2023-06-24T08:00:18.527025",
     "exception": false,
     "start_time": "2023-06-24T08:00:18.511824",
     "status": "completed"
    },
    "tags": []
   },
   "outputs": [],
   "source": [
    "# TODO: Your code here"
   ]
  },
  {
   "cell_type": "markdown",
   "id": "fa5dd059",
   "metadata": {
    "papermill": {
     "duration": 0.006155,
     "end_time": "2023-06-24T08:00:18.539654",
     "exception": false,
     "start_time": "2023-06-24T08:00:18.533499",
     "status": "completed"
    },
    "tags": []
   },
   "source": [
    "Do you notice any inconsistencies in the data?  Can any of the inconsistencies in the data be fixed by removing white spaces at the beginning and end of cells?\n",
    "\n",
    "Once you have answered these questions, run the code cell below to get credit for your work."
   ]
  },
  {
   "cell_type": "code",
   "execution_count": 5,
   "id": "8655353a",
   "metadata": {
    "execution": {
     "iopub.execute_input": "2023-06-24T08:00:18.554598Z",
     "iopub.status.busy": "2023-06-24T08:00:18.553942Z",
     "iopub.status.idle": "2023-06-24T08:00:18.564058Z",
     "shell.execute_reply": "2023-06-24T08:00:18.562836Z"
    },
    "papermill": {
     "duration": 0.020223,
     "end_time": "2023-06-24T08:00:18.566240",
     "exception": false,
     "start_time": "2023-06-24T08:00:18.546017",
     "status": "completed"
    },
    "tags": []
   },
   "outputs": [
    {
     "data": {
      "application/javascript": [
       "parent.postMessage({\"jupyterEvent\": \"custom.exercise_interaction\", \"data\": {\"outcomeType\": 1, \"valueTowardsCompletion\": 0.3333333333333333, \"interactionType\": 1, \"questionType\": 4, \"questionId\": \"1_ExamineProvince\", \"learnToolsVersion\": \"0.3.4\", \"failureMessage\": \"\", \"exceptionClass\": \"\", \"trace\": \"\"}}, \"*\")"
      ],
      "text/plain": [
       "<IPython.core.display.Javascript object>"
      ]
     },
     "metadata": {},
     "output_type": "display_data"
    },
    {
     "data": {
      "text/markdown": [
       "<span style=\"color:#33cc33\">Correct:</span> \n",
       "\n",
       "There are inconsistencies that can be fixed by removing white spaces at the beginning and end of cells.  For instance, \"University of Central Florida\" and \" University of Central Florida\" both appear in the column."
      ],
      "text/plain": [
       "Correct: \n",
       "\n",
       "There are inconsistencies that can be fixed by removing white spaces at the beginning and end of cells.  For instance, \"University of Central Florida\" and \" University of Central Florida\" both appear in the column."
      ]
     },
     "metadata": {},
     "output_type": "display_data"
    }
   ],
   "source": [
    "# Check your answer (Run this code cell to receive credit!)\n",
    "q1.check()"
   ]
  },
  {
   "cell_type": "code",
   "execution_count": 6,
   "id": "7bed7e59",
   "metadata": {
    "execution": {
     "iopub.execute_input": "2023-06-24T08:00:18.581967Z",
     "iopub.status.busy": "2023-06-24T08:00:18.581535Z",
     "iopub.status.idle": "2023-06-24T08:00:18.585858Z",
     "shell.execute_reply": "2023-06-24T08:00:18.584741Z"
    },
    "papermill": {
     "duration": 0.014886,
     "end_time": "2023-06-24T08:00:18.588035",
     "exception": false,
     "start_time": "2023-06-24T08:00:18.573149",
     "status": "completed"
    },
    "tags": []
   },
   "outputs": [],
   "source": [
    "# Line below will give you a hint\n",
    "#q1.hint()"
   ]
  },
  {
   "cell_type": "markdown",
   "id": "84220f20",
   "metadata": {
    "papermill": {
     "duration": 0.006538,
     "end_time": "2023-06-24T08:00:18.601305",
     "exception": false,
     "start_time": "2023-06-24T08:00:18.594767",
     "status": "completed"
    },
    "tags": []
   },
   "source": [
    "# 2) Do some text pre-processing\n",
    "\n",
    "Convert every entry in the \"Graduated from\" column in the `professors` DataFrame to remove white spaces at the beginning and end of cells."
   ]
  },
  {
   "cell_type": "code",
   "execution_count": 7,
   "id": "a01c42ad",
   "metadata": {
    "execution": {
     "iopub.execute_input": "2023-06-24T08:00:18.617199Z",
     "iopub.status.busy": "2023-06-24T08:00:18.616527Z",
     "iopub.status.idle": "2023-06-24T08:00:18.628770Z",
     "shell.execute_reply": "2023-06-24T08:00:18.627990Z"
    },
    "papermill": {
     "duration": 0.022924,
     "end_time": "2023-06-24T08:00:18.631034",
     "exception": false,
     "start_time": "2023-06-24T08:00:18.608110",
     "status": "completed"
    },
    "tags": []
   },
   "outputs": [
    {
     "data": {
      "application/javascript": [
       "parent.postMessage({\"jupyterEvent\": \"custom.exercise_interaction\", \"data\": {\"outcomeType\": 2, \"failureMessage\": \"Incorrect value for `professors`\", \"interactionType\": 1, \"questionType\": 1, \"questionId\": \"2_TextProcessing\", \"learnToolsVersion\": \"0.3.4\", \"valueTowardsCompletion\": 0.0, \"exceptionClass\": \"\", \"trace\": \"\"}}, \"*\")"
      ],
      "text/plain": [
       "<IPython.core.display.Javascript object>"
      ]
     },
     "metadata": {},
     "output_type": "display_data"
    },
    {
     "data": {
      "text/markdown": [
       "<span style=\"color:#cc3333\">Incorrect:</span> Incorrect value for `professors`"
      ],
      "text/plain": [
       "Incorrect: Incorrect value for `professors`"
      ]
     },
     "metadata": {},
     "output_type": "display_data"
    }
   ],
   "source": [
    "# TODO: Your code here\n",
    "____\n",
    "\n",
    "# Check your answer\n",
    "q2.check()"
   ]
  },
  {
   "cell_type": "code",
   "execution_count": 8,
   "id": "a0d988a6",
   "metadata": {
    "execution": {
     "iopub.execute_input": "2023-06-24T08:00:18.648142Z",
     "iopub.status.busy": "2023-06-24T08:00:18.647488Z",
     "iopub.status.idle": "2023-06-24T08:00:18.652320Z",
     "shell.execute_reply": "2023-06-24T08:00:18.651269Z"
    },
    "papermill": {
     "duration": 0.015631,
     "end_time": "2023-06-24T08:00:18.654454",
     "exception": false,
     "start_time": "2023-06-24T08:00:18.638823",
     "status": "completed"
    },
    "tags": []
   },
   "outputs": [],
   "source": [
    "# Lines below will give you a hint or solution code\n",
    "#q2.hint()\n",
    "#q2.solution()"
   ]
  },
  {
   "cell_type": "markdown",
   "id": "12344b8f",
   "metadata": {
    "papermill": {
     "duration": 0.007105,
     "end_time": "2023-06-24T08:00:18.669181",
     "exception": false,
     "start_time": "2023-06-24T08:00:18.662076",
     "status": "completed"
    },
    "tags": []
   },
   "source": [
    "# 3) Continue working with countries\n",
    "\n",
    "In the tutorial, we focused on cleaning up inconsistencies in the \"Country\" column.  Run the code cell below to view the list of unique values that we ended with."
   ]
  },
  {
   "cell_type": "code",
   "execution_count": 9,
   "id": "18e8cb54",
   "metadata": {
    "execution": {
     "iopub.execute_input": "2023-06-24T08:00:18.688029Z",
     "iopub.status.busy": "2023-06-24T08:00:18.687605Z",
     "iopub.status.idle": "2023-06-24T08:00:18.695935Z",
     "shell.execute_reply": "2023-06-24T08:00:18.695051Z"
    },
    "papermill": {
     "duration": 0.019194,
     "end_time": "2023-06-24T08:00:18.698122",
     "exception": false,
     "start_time": "2023-06-24T08:00:18.678928",
     "status": "completed"
    },
    "tags": []
   },
   "outputs": [
    {
     "data": {
      "text/plain": [
       "array(['australia', 'austria', 'canada', 'china', 'finland', 'france',\n",
       "       'germany', 'greece', 'hongkong', 'ireland', 'italy', 'japan',\n",
       "       'macau', 'malaysia', 'mauritius', 'netherland', 'new zealand',\n",
       "       'norway', 'pakistan', 'portugal', 'russian federation',\n",
       "       'saudi arabia', 'scotland', 'singapore', 'south korea', 'spain',\n",
       "       'sweden', 'thailand', 'turkey', 'uk', 'urbana', 'usa', 'usofa'],\n",
       "      dtype=object)"
      ]
     },
     "execution_count": 9,
     "metadata": {},
     "output_type": "execute_result"
    }
   ],
   "source": [
    "# get all the unique values in the 'City' column\n",
    "countries = professors['Country'].unique()\n",
    "\n",
    "# sort them alphabetically and then take a closer look\n",
    "countries.sort()\n",
    "countries"
   ]
  },
  {
   "cell_type": "markdown",
   "id": "ba5510eb",
   "metadata": {
    "papermill": {
     "duration": 0.007181,
     "end_time": "2023-06-24T08:00:18.712752",
     "exception": false,
     "start_time": "2023-06-24T08:00:18.705571",
     "status": "completed"
    },
    "tags": []
   },
   "source": [
    "Take another look at the \"Country\" column and see if there's any more data cleaning we need to do.\n",
    "\n",
    "It looks like 'usa' and 'usofa' should be the same country.  Correct the \"Country\" column in the dataframe to replace 'usofa' with 'usa'.\n",
    "\n",
    "**Use the most recent version of the DataFrame (with the whitespaces at the beginning and end of cells removed) from question 2.**"
   ]
  },
  {
   "cell_type": "code",
   "execution_count": 10,
   "id": "72312115",
   "metadata": {
    "execution": {
     "iopub.execute_input": "2023-06-24T08:00:18.730340Z",
     "iopub.status.busy": "2023-06-24T08:00:18.729139Z",
     "iopub.status.idle": "2023-06-24T08:00:18.739952Z",
     "shell.execute_reply": "2023-06-24T08:00:18.738825Z"
    },
    "papermill": {
     "duration": 0.021769,
     "end_time": "2023-06-24T08:00:18.742085",
     "exception": false,
     "start_time": "2023-06-24T08:00:18.720316",
     "status": "completed"
    },
    "tags": []
   },
   "outputs": [
    {
     "data": {
      "application/javascript": [
       "parent.postMessage({\"jupyterEvent\": \"custom.exercise_interaction\", \"data\": {\"outcomeType\": 2, \"failureMessage\": \"Incorrect value for `professors`\", \"interactionType\": 1, \"questionType\": 1, \"questionId\": \"3_WorkingWithCities\", \"learnToolsVersion\": \"0.3.4\", \"valueTowardsCompletion\": 0.0, \"exceptionClass\": \"\", \"trace\": \"\"}}, \"*\")"
      ],
      "text/plain": [
       "<IPython.core.display.Javascript object>"
      ]
     },
     "metadata": {},
     "output_type": "display_data"
    },
    {
     "data": {
      "text/markdown": [
       "<span style=\"color:#cc3333\">Incorrect:</span> Incorrect value for `professors`"
      ],
      "text/plain": [
       "Incorrect: Incorrect value for `professors`"
      ]
     },
     "metadata": {},
     "output_type": "display_data"
    }
   ],
   "source": [
    "# TODO: Your code here!\n",
    "____\n",
    "\n",
    "# Check your answer\n",
    "q3.check()"
   ]
  },
  {
   "cell_type": "code",
   "execution_count": 11,
   "id": "ff66c1aa",
   "metadata": {
    "execution": {
     "iopub.execute_input": "2023-06-24T08:00:18.760557Z",
     "iopub.status.busy": "2023-06-24T08:00:18.759311Z",
     "iopub.status.idle": "2023-06-24T08:00:18.764802Z",
     "shell.execute_reply": "2023-06-24T08:00:18.763594Z"
    },
    "papermill": {
     "duration": 0.017603,
     "end_time": "2023-06-24T08:00:18.767560",
     "exception": false,
     "start_time": "2023-06-24T08:00:18.749957",
     "status": "completed"
    },
    "tags": []
   },
   "outputs": [],
   "source": [
    "# Lines below will give you a hint or solution code\n",
    "#q3.hint()\n",
    "#q3.solution()"
   ]
  },
  {
   "cell_type": "markdown",
   "id": "1ab10bd2",
   "metadata": {
    "papermill": {
     "duration": 0.00751,
     "end_time": "2023-06-24T08:00:18.783269",
     "exception": false,
     "start_time": "2023-06-24T08:00:18.775759",
     "status": "completed"
    },
    "tags": []
   },
   "source": [
    "# Congratulations!\n",
    "\n",
    "Congratulations for completing the **Data Cleaning** course on Kaggle Learn!\n",
    "\n",
    "To practice your new skills, you're encouraged to download and investigate some of [Kaggle's Datasets](https://www.kaggle.com/datasets)."
   ]
  },
  {
   "cell_type": "markdown",
   "id": "5fe15e5f",
   "metadata": {
    "papermill": {
     "duration": 0.007596,
     "end_time": "2023-06-24T08:00:18.798790",
     "exception": false,
     "start_time": "2023-06-24T08:00:18.791194",
     "status": "completed"
    },
    "tags": []
   },
   "source": [
    "---\n",
    "\n",
    "\n",
    "\n",
    "\n",
    "*Have questions or comments? Visit the [course discussion forum](https://www.kaggle.com/learn/data-cleaning/discussion) to chat with other learners.*"
   ]
  }
 ],
 "metadata": {
  "kernelspec": {
   "display_name": "Python 3",
   "language": "python",
   "name": "python3"
  },
  "language_info": {
   "codemirror_mode": {
    "name": "ipython",
    "version": 3
   },
   "file_extension": ".py",
   "mimetype": "text/x-python",
   "name": "python",
   "nbconvert_exporter": "python",
   "pygments_lexer": "ipython3",
   "version": "3.10.10"
  },
  "papermill": {
   "default_parameters": {},
   "duration": 13.699764,
   "end_time": "2023-06-24T08:00:19.629778",
   "environment_variables": {},
   "exception": null,
   "input_path": "__notebook__.ipynb",
   "output_path": "__notebook__.ipynb",
   "parameters": {},
   "start_time": "2023-06-24T08:00:05.930014",
   "version": "2.4.0"
  }
 },
 "nbformat": 4,
 "nbformat_minor": 5
}
